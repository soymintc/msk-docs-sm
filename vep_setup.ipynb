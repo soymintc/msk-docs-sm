{
 "cells": [
  {
   "cell_type": "markdown",
   "id": "d853d0ba-f428-46d3-a68b-5e0fd79b78b9",
   "metadata": {},
   "source": [
    "### How to setup the VEP database"
   ]
  },
  {
   "cell_type": "markdown",
   "id": "3d74e9e3-b6b0-41f5-b1fc-349f879893ce",
   "metadata": {},
   "source": [
    "#### 1. Download the VEP variation database and assembly by themselves"
   ]
  },
  {
   "cell_type": "markdown",
   "id": "f3508c17-55da-4b1b-b63b-1e7580dc87a5",
   "metadata": {},
   "source": [
    "##### The below links may change. In such cases surf through: http://ftp.ensembl.org/pub"
   ]
  },
  {
   "cell_type": "code",
   "execution_count": null,
   "id": "41a1fbee-77b3-4d76-9504-e1a1a8171368",
   "metadata": {},
   "outputs": [],
   "source": [
    "%%bash\n",
    "RELEASE=105\n",
    "SPECIES=homo_sapiens\n",
    "ASSEMBLY=GRCh38\n",
    "\n",
    "wget http://ftp.ensembl.org/pub/release-${RELEASE}/variation/vep/${SPECIES}_vep_${RELEASE}_${ASSEMBLY}.tar.gz # must untar \n",
    "wget http://ftp.ensembl.org/pub/release-${RELEASE}/fasta/${SPECIES}/dna/Homo_sapiens.${RELEASE}.dna.primary_assembly.fa.gz # they give no index files"
   ]
  },
  {
   "cell_type": "markdown",
   "id": "df1f62f8-9c18-4861-a182-421c1747e1d9",
   "metadata": {},
   "source": [
    "#### 2. Download from `INSTALL.pl` file inside ensembl-vep suite"
   ]
  },
  {
   "cell_type": "code",
   "execution_count": null,
   "id": "db91e1d7-b1b4-4ff9-8a89-b2f923a17137",
   "metadata": {},
   "outputs": [],
   "source": [
    "%%bash\n",
    "\n",
    "module load perl # VEP requires many, MANY perl modules\n",
    "git clone https://github.com/Ensembl/ensembl-vep.git\n",
    "cd ensembl-vep\n",
    "\n",
    "perl ./INSTALL.pl"
   ]
  },
  {
   "cell_type": "markdown",
   "id": "7d067625-a926-4478-a26f-3ebbf5db19ed",
   "metadata": {
    "tags": []
   },
   "source": [
    "##### stdout\n",
    "`Do you want to continue installing the API (y/n)?` -> y\n",
    "\n",
    "`Cache files will be stored in /home/chois7/.vep` -> you can change this by changing `--CACHEDIR`\n",
    "<br>`Do you want to install any cache files (y/n)?` -> y -> 466 (homo sapiens; number may change)\n",
    "\n",
    "`FASTA files will be stored in /home/chois7/.vep` -> you can change this by changing `--CACHEDIR`\n",
    "<br>`Do you want to install any FASTA files (y/n)?` -> y -> 123 (homo sapiens; number may change)\n",
    "\n",
    "`Plugins will be installed in /home/chois7/.vep/Plugins` -> [plugins](https://m.ensembl.org/info/docs/tools/vep/script/vep_plugins.html) are things like CADD and Conservation; you can change this by changing `--PLUGINSDIR`\n",
    "<br>`Do you want to install any plugins (y/n)?` -> y -> 0 (all)\n"
   ]
  }
 ],
 "metadata": {
  "kernelspec": {
   "display_name": "Python 3 (ipykernel)",
   "language": "python",
   "name": "python3"
  },
  "language_info": {
   "codemirror_mode": {
    "name": "ipython",
    "version": 3
   },
   "file_extension": ".py",
   "mimetype": "text/x-python",
   "name": "python",
   "nbconvert_exporter": "python",
   "pygments_lexer": "ipython3",
   "version": "3.9.0"
  }
 },
 "nbformat": 4,
 "nbformat_minor": 5
}
